{
 "cells": [
  {
   "cell_type": "code",
   "execution_count": 1,
   "metadata": {},
   "outputs": [],
   "source": [
    "import os\n",
    "import datetime\n",
    "\n",
    "import requests\n",
    "import urllib.request\n",
    "import time\n",
    "from bs4 import BeautifulSoup\n",
    "import re\n",
    "import json\n",
    "\n",
    "import pandas as pd"
   ]
  },
  {
   "cell_type": "code",
   "execution_count": 2,
   "metadata": {},
   "outputs": [],
   "source": [
    "def get_google_link():\n",
    "    '''Get link of Google Community Mobility report file\n",
    "       Returns:\n",
    "           link (str): link of Google Community report file\n",
    "    '''\n",
    "    # get webpage source\n",
    "    url = 'https://www.google.com/covid19/mobility/'\n",
    "    response = requests.get(url)\n",
    "    soup = BeautifulSoup(response.text, \"html.parser\")\n",
    "    csv_tag = soup.find('a', {\"class\": \"icon-link\"})\n",
    "    link = csv_tag['href']\n",
    "    return link"
   ]
  },
  {
   "cell_type": "code",
   "execution_count": 6,
   "metadata": {},
   "outputs": [],
   "source": [
    "def download_google_report(directory=\"../data/mobility/google_mobility\"):\n",
    "    '''Download Google Community Mobility report in CSV format\n",
    "        Args:\n",
    "            directory: directory to which CSV report will be downloaded\n",
    "        Returns:\n",
    "            new_files (bool): flag indicating whether or not new files have been downloaded\n",
    "    '''\n",
    "    new_files = False\n",
    "\n",
    "    # create directory if it don't exist\n",
    "    if not os.path.exists(directory):\n",
    "        os.makedirs(directory)\n",
    "\n",
    "    # download CSV file\n",
    "    link = get_google_link()\n",
    "    file_name = \"Global_Mobility_Report.csv\"\n",
    "    path = os.path.join(directory, file_name)\n",
    "    if not os.path.isfile(path):\n",
    "        new_files = True\n",
    "        urllib.request.urlretrieve(link, path)\n",
    "    else:\n",
    "        path_new = os.path.join(directory, file_name + \"_new\")\n",
    "        urllib.request.urlretrieve(link, path_new)\n",
    "        if os.path.getsize(path) == os.path.getsize(path_new):\n",
    "            os.remove(path_new)\n",
    "        else:\n",
    "            new_files = True\n",
    "            os.remove(path)\n",
    "            os.rename(path_new, path)\n",
    "\n",
    "    if not new_files:\n",
    "        print('Google: No updates')\n",
    "    else:\n",
    "        print('Google: Update available')\n",
    "\n",
    "    return new_files"
   ]
  },
  {
   "cell_type": "code",
   "execution_count": 39,
   "metadata": {},
   "outputs": [],
   "source": [
    "def build_google_report(\n",
    "        source=os.path.join(\"../data/mobility/google_mobility/\", \"Global_Mobility_Report.csv\"),\n",
    "        report_type=\"regions\"):\n",
    "    '''Build cleaned Google report for the worldwide or for some country (currently only for the US)\n",
    "        Args:\n",
    "            source: location of the raw Google CSV report\n",
    "            report_type: two options available: \"regions\" - report for the worldwide, \"US\" - report for the US\n",
    "        Returns:\n",
    "           google (DataFrame): generated Google report\n",
    "    '''\n",
    "    google = pd.read_csv(source, low_memory=False)\n",
    "    google.columns = google.columns.str.replace(\n",
    "        r'_percent_change_from_baseline', '')\n",
    "    google.columns = google.columns.str.replace(r'_', ' ')\n",
    "    google = google.rename(columns={'country region': 'country'})\n",
    "    if report_type == \"regions\":\n",
    "        google = google[google['sub region 2'].isnull()]\n",
    "        google = google.rename(columns={'sub region 1': 'region'})\n",
    "        google = google.loc[:,\n",
    "                            ['country',\n",
    "                             'region',\n",
    "                             'date',\n",
    "                             'retail and recreation',\n",
    "                             'grocery and pharmacy',\n",
    "                             'parks',\n",
    "                             'transit stations',\n",
    "                             'workplaces',\n",
    "                             'residential']]\n",
    "        google['region'].fillna('Total', inplace=True)\n",
    "    elif report_type == \"ZA\":\n",
    "        google = google[(google['country'] == \"South Africa\")]\n",
    "        google = google.rename(\n",
    "            columns={'sub region 1': 'province'})\n",
    "        google = google.loc[:,\n",
    "                            ['province',\n",
    "                             'date',\n",
    "                             'retail and recreation',\n",
    "                             'grocery and pharmacy',\n",
    "                             'parks',\n",
    "                             'transit stations',\n",
    "                             'workplaces',\n",
    "                             'residential']]\n",
    "        google['province'].fillna('Total', inplace=True)\n",
    "    return google"
   ]
  },
  {
   "cell_type": "code",
   "execution_count": 11,
   "metadata": {},
   "outputs": [
    {
     "name": "stdout",
     "output_type": "stream",
     "text": [
      "Google: No updates\n"
     ]
    }
   ],
   "source": [
    "new_files_status_google = download_google_report()"
   ]
  },
  {
   "cell_type": "code",
   "execution_count": 40,
   "metadata": {},
   "outputs": [],
   "source": [
    "google_za = build_google_report(report_type=\"ZA\")"
   ]
  },
  {
   "cell_type": "code",
   "execution_count": 42,
   "metadata": {},
   "outputs": [],
   "source": [
    "google_za.to_csv(os.path.join(\"../data/mobility/google_mobility/\", \"mobility_report_ZA.csv\"), index=False)"
   ]
  },
  {
   "cell_type": "code",
   "execution_count": 44,
   "metadata": {},
   "outputs": [],
   "source": [
    "!rm ../data/mobility/google_mobility/Global_Mobility_Report.csv"
   ]
  },
  {
   "cell_type": "code",
   "execution_count": null,
   "metadata": {},
   "outputs": [],
   "source": []
  }
 ],
 "metadata": {
  "kernelspec": {
   "display_name": "Python 3",
   "language": "python",
   "name": "python3"
  },
  "language_info": {
   "codemirror_mode": {
    "name": "ipython",
    "version": 3
   },
   "file_extension": ".py",
   "mimetype": "text/x-python",
   "name": "python",
   "nbconvert_exporter": "python",
   "pygments_lexer": "ipython3",
   "version": "3.6.10"
  }
 },
 "nbformat": 4,
 "nbformat_minor": 4
}
